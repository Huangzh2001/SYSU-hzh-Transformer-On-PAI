{
 "cells": [
  {
   "cell_type": "markdown",
   "id": "f1857956",
   "metadata": {},
   "source": [
    "## 1.计算SSIM"
   ]
  },
  {
   "cell_type": "markdown",
   "id": "28137a2e",
   "metadata": {},
   "source": [
    "1.初始化库"
   ]
  },
  {
   "cell_type": "code",
   "execution_count": 1,
   "id": "99b4939b",
   "metadata": {},
   "outputs": [],
   "source": [
    "from skimage.metrics import structural_similarity as ssim\n",
    "from PIL import Image\n",
    "import numpy as np\n",
    "\n",
    "import os, sys\n",
    "import numpy as np\n",
    "import matplotlib.pyplot as plt\n",
    "\n",
    "from skimage import data, img_as_float\n",
    "from skimage.metrics import structural_similarity as ssim\n",
    "from skimage.metrics import mean_squared_error\n",
    "from skimage.metrics import peak_signal_noise_ratio as psnr"
   ]
  },
  {
   "cell_type": "markdown",
   "id": "e0626251",
   "metadata": {},
   "source": [
    "2.定义图片读取路径"
   ]
  },
  {
   "cell_type": "code",
   "execution_count": 2,
   "id": "637d180d",
   "metadata": {},
   "outputs": [],
   "source": [
    "pre_image_path = '../DataSet/Skin Cancer MNIST Pre photos/HAM10000_images_part_1'\n",
    "rec_50_sensor_path = '../DataSet/Skin Cancer MNIST 100 Rec Photos/50_sensor_points'\n",
    "rec_100_sensor_path = '../DataSet/Skin Cancer MNIST 100 Rec Photos/100_sensor_points'\n",
    "rec_200_sensor_path = '../DataSet/Skin Cancer MNIST 100 Rec Photos/200_sensor_points'\n",
    "rec_400_sensor_path = '../DataSet/Skin Cancer MNIST 100 Rec Photos/400_sensor_points'\n",
    "rec_800_sensor_path = '../DataSet/Skin Cancer MNIST 100 Rec Photos/800_sensor_points'"
   ]
  },
  {
   "cell_type": "code",
   "execution_count": 3,
   "id": "75a0ac63",
   "metadata": {},
   "outputs": [],
   "source": [
    "pre_image_dir = os.listdir(pre_image_path)"
   ]
  },
  {
   "cell_type": "markdown",
   "id": "3c3934c1",
   "metadata": {},
   "source": [
    "3.对50个传感器重建出来的图片与原图像计算SSIM"
   ]
  },
  {
   "cell_type": "code",
   "execution_count": 4,
   "id": "a6d850bb",
   "metadata": {
    "scrolled": true
   },
   "outputs": [
    {
     "name": "stdout",
     "output_type": "stream",
     "text": [
      "100\n",
      "0.4686246351082388\n"
     ]
    }
   ],
   "source": [
    "rec_50_sensor_dir = os.listdir(rec_50_sensor_path)\n",
    "img_50_ssim_sum = 0\n",
    "img_num = len(rec_50_sensor_dir)\n",
    "print(img_num)\n",
    "for file in rec_50_sensor_dir:\n",
    "    rec_img = np.array(Image.open(os.path.join(rec_50_sensor_path,file)))\n",
    "    pre_img = np.array(Image.open(os.path.join(pre_image_path,file)))\n",
    "    img_ssim = ssim(rec_img, pre_img, multichannel=True)\n",
    "    img_50_ssim_sum = img_50_ssim_sum + img_ssim\n",
    "print(img_50_ssim_sum/img_num)\n",
    "img_50_ssim = img_50_ssim_sum/img_num"
   ]
  },
  {
   "cell_type": "markdown",
   "id": "0e158231",
   "metadata": {},
   "source": [
    "4.对100个传感器重建出来的图片与原图像计算SSIM"
   ]
  },
  {
   "cell_type": "code",
   "execution_count": 5,
   "id": "05b357f6",
   "metadata": {},
   "outputs": [
    {
     "name": "stdout",
     "output_type": "stream",
     "text": [
      "100\n",
      "0.5861725443906356\n"
     ]
    }
   ],
   "source": [
    "rec_100_sensor_dir = os.listdir(rec_100_sensor_path)\n",
    "img_100_ssim_sum = 0\n",
    "img_num = len(rec_100_sensor_dir)\n",
    "print(img_num)\n",
    "for file in rec_100_sensor_dir:\n",
    "    rec_img = np.array(Image.open(os.path.join(rec_100_sensor_path,file)))\n",
    "    pre_img = np.array(Image.open(os.path.join(pre_image_path,file)))\n",
    "    img_ssim = ssim(rec_img, pre_img, multichannel=True)\n",
    "    img_100_ssim_sum = img_100_ssim_sum + img_ssim\n",
    "print(img_100_ssim_sum/img_num)\n",
    "img_100_ssim = img_100_ssim_sum/img_num"
   ]
  },
  {
   "cell_type": "markdown",
   "id": "99b6819e",
   "metadata": {},
   "source": [
    "5.对200个传感器重建出来的图片与原图像计算SSIM"
   ]
  },
  {
   "cell_type": "code",
   "execution_count": 6,
   "id": "17a1104f",
   "metadata": {},
   "outputs": [
    {
     "name": "stdout",
     "output_type": "stream",
     "text": [
      "100\n",
      "0.6697094596332152\n"
     ]
    }
   ],
   "source": [
    "rec_200_sensor_dir = os.listdir(rec_200_sensor_path)\n",
    "img_200_ssim_sum = 0\n",
    "img_num = len(rec_200_sensor_dir)\n",
    "print(img_num)\n",
    "for file in rec_200_sensor_dir:\n",
    "    rec_img = np.array(Image.open(os.path.join(rec_200_sensor_path,file)))\n",
    "    pre_img = np.array(Image.open(os.path.join(pre_image_path,file)))\n",
    "    img_ssim = ssim(rec_img, pre_img, multichannel=True)\n",
    "    img_200_ssim_sum = img_200_ssim_sum + img_ssim\n",
    "print(img_200_ssim_sum/img_num)\n",
    "img_200_ssim = img_200_ssim_sum/img_num"
   ]
  },
  {
   "cell_type": "markdown",
   "id": "b5e83ad9",
   "metadata": {},
   "source": [
    "6.对400个传感器重建出来的图片与原图像计算SSIM"
   ]
  },
  {
   "cell_type": "code",
   "execution_count": 7,
   "id": "69169be8",
   "metadata": {
    "scrolled": true
   },
   "outputs": [
    {
     "name": "stdout",
     "output_type": "stream",
     "text": [
      "100\n",
      "0.7450560807690898\n"
     ]
    }
   ],
   "source": [
    "rec_400_sensor_dir = os.listdir(rec_400_sensor_path)\n",
    "img_400_ssim_sum = 0\n",
    "img_num = len(rec_400_sensor_dir)\n",
    "print(img_num)\n",
    "for file in rec_400_sensor_dir:\n",
    "    rec_img = np.array(Image.open(os.path.join(rec_400_sensor_path,file)))\n",
    "    pre_img = np.array(Image.open(os.path.join(pre_image_path,file)))\n",
    "    img_ssim = ssim(rec_img, pre_img, multichannel=True)\n",
    "    img_400_ssim_sum = img_400_ssim_sum + img_ssim\n",
    "print(img_400_ssim_sum/img_num)\n",
    "img_400_ssim = img_400_ssim_sum/img_num"
   ]
  },
  {
   "cell_type": "markdown",
   "id": "47bc2b1a",
   "metadata": {},
   "source": [
    "7.对800个传感器重建出来的图片与原图像计算SSIM"
   ]
  },
  {
   "cell_type": "code",
   "execution_count": 8,
   "id": "7997361f",
   "metadata": {},
   "outputs": [
    {
     "name": "stdout",
     "output_type": "stream",
     "text": [
      "100\n",
      "0.7832779949324545\n"
     ]
    }
   ],
   "source": [
    "rec_800_sensor_dir = os.listdir(rec_800_sensor_path)\n",
    "img_800_ssim_sum = 0\n",
    "img_num = len(rec_800_sensor_dir)\n",
    "print(img_num)\n",
    "for file in rec_800_sensor_dir:\n",
    "    rec_img = np.array(Image.open(os.path.join(rec_800_sensor_path,file)))\n",
    "    pre_img = np.array(Image.open(os.path.join(pre_image_path,file)))\n",
    "    img_ssim = ssim(rec_img, pre_img, multichannel=True)\n",
    "    img_800_ssim_sum = img_800_ssim_sum + img_ssim\n",
    "print(img_800_ssim_sum/img_num)\n",
    "img_800_ssim = img_800_ssim_sum/img_num"
   ]
  },
  {
   "cell_type": "markdown",
   "id": "1ff76ef2",
   "metadata": {},
   "source": [
    "## 2.计算PSNR"
   ]
  },
  {
   "cell_type": "markdown",
   "id": "1cd834ce",
   "metadata": {},
   "source": [
    "1.对50个传感器重建出来的图片与原图像计算psnr"
   ]
  },
  {
   "cell_type": "code",
   "execution_count": 9,
   "id": "2833ad66",
   "metadata": {
    "scrolled": true
   },
   "outputs": [
    {
     "name": "stdout",
     "output_type": "stream",
     "text": [
      "100\n",
      "22.253450064737404\n"
     ]
    }
   ],
   "source": [
    "rec_50_sensor_dir = os.listdir(rec_50_sensor_path)\n",
    "img_50_psnr_sum = 0\n",
    "img_num = len(rec_50_sensor_dir)\n",
    "print(img_num)\n",
    "for file in rec_50_sensor_dir:\n",
    "    rec_img = np.array(Image.open(os.path.join(rec_50_sensor_path,file)))\n",
    "    pre_img = np.array(Image.open(os.path.join(pre_image_path,file)))\n",
    "    img_psnr = psnr(rec_img, pre_img)\n",
    "    img_50_psnr_sum = img_50_psnr_sum + img_psnr\n",
    "print(img_50_psnr_sum/img_num)\n",
    "img_50_psnr = img_50_psnr_sum/img_num"
   ]
  },
  {
   "cell_type": "markdown",
   "id": "85b766c4",
   "metadata": {},
   "source": [
    "2.对100个传感器重建出来的图片与原图像计算psnr"
   ]
  },
  {
   "cell_type": "code",
   "execution_count": 10,
   "id": "8b791a1b",
   "metadata": {
    "scrolled": true
   },
   "outputs": [
    {
     "name": "stdout",
     "output_type": "stream",
     "text": [
      "100\n",
      "24.28232628379374\n"
     ]
    }
   ],
   "source": [
    "rec_100_sensor_dir = os.listdir(rec_100_sensor_path)\n",
    "img_100_psnr_sum = 0\n",
    "img_num = len(rec_100_sensor_dir)\n",
    "print(img_num)\n",
    "for file in rec_100_sensor_dir:\n",
    "    rec_img = np.array(Image.open(os.path.join(rec_100_sensor_path,file)))\n",
    "    pre_img = np.array(Image.open(os.path.join(pre_image_path,file)))\n",
    "    img_psnr = psnr(rec_img, pre_img)\n",
    "    img_100_psnr_sum = img_100_psnr_sum + img_psnr\n",
    "print(img_100_psnr_sum/img_num)\n",
    "img_100_psnr = img_100_psnr_sum/img_num"
   ]
  },
  {
   "cell_type": "markdown",
   "id": "21bd2301",
   "metadata": {},
   "source": [
    "3.对200个传感器重建出来的图片与原图像计算psnr"
   ]
  },
  {
   "cell_type": "code",
   "execution_count": 11,
   "id": "53b17624",
   "metadata": {
    "scrolled": true
   },
   "outputs": [
    {
     "name": "stdout",
     "output_type": "stream",
     "text": [
      "100\n",
      "25.34965083895595\n"
     ]
    }
   ],
   "source": [
    "rec_200_sensor_dir = os.listdir(rec_200_sensor_path)\n",
    "img_200_psnr_sum = 0\n",
    "img_num = len(rec_200_sensor_dir)\n",
    "print(img_num)\n",
    "for file in rec_200_sensor_dir:\n",
    "    rec_img = np.array(Image.open(os.path.join(rec_200_sensor_path,file)))\n",
    "    pre_img = np.array(Image.open(os.path.join(pre_image_path,file)))\n",
    "    img_psnr = psnr(rec_img, pre_img)\n",
    "    img_200_psnr_sum = img_200_psnr_sum + img_psnr\n",
    "print(img_200_psnr_sum/img_num)\n",
    "img_200_psnr = img_200_psnr_sum/img_num"
   ]
  },
  {
   "cell_type": "markdown",
   "id": "a7501b07",
   "metadata": {},
   "source": [
    "4.对400个传感器重建出来的图片与原图像计算psnr"
   ]
  },
  {
   "cell_type": "code",
   "execution_count": 12,
   "id": "dc46fc05",
   "metadata": {},
   "outputs": [
    {
     "name": "stdout",
     "output_type": "stream",
     "text": [
      "100\n",
      "25.967972785730808\n"
     ]
    }
   ],
   "source": [
    "rec_400_sensor_dir = os.listdir(rec_400_sensor_path)\n",
    "img_400_psnr_sum = 0\n",
    "img_num = len(rec_400_sensor_dir)\n",
    "print(img_num)\n",
    "for file in rec_400_sensor_dir:\n",
    "    rec_img = np.array(Image.open(os.path.join(rec_400_sensor_path,file)))\n",
    "    pre_img = np.array(Image.open(os.path.join(pre_image_path,file)))\n",
    "    img_psnr = psnr(rec_img, pre_img)\n",
    "    img_400_psnr_sum = img_400_psnr_sum + img_psnr\n",
    "print(img_400_psnr_sum/img_num)\n",
    "img_400_psnr = img_400_psnr_sum/img_num"
   ]
  },
  {
   "cell_type": "markdown",
   "id": "dc8e4bc1",
   "metadata": {},
   "source": [
    "5.对800个传感器重建出来的图片与原图像计算psnr"
   ]
  },
  {
   "cell_type": "code",
   "execution_count": 13,
   "id": "8a566f02",
   "metadata": {},
   "outputs": [
    {
     "name": "stdout",
     "output_type": "stream",
     "text": [
      "100\n",
      "26.24180240696087\n"
     ]
    }
   ],
   "source": [
    "rec_800_sensor_dir = os.listdir(rec_800_sensor_path)\n",
    "img_800_psnr_sum = 0\n",
    "img_num = len(rec_800_sensor_dir)\n",
    "print(img_num)\n",
    "for file in rec_800_sensor_dir:\n",
    "    rec_img = np.array(Image.open(os.path.join(rec_800_sensor_path,file)))\n",
    "    pre_img = np.array(Image.open(os.path.join(pre_image_path,file)))\n",
    "    img_psnr = psnr(rec_img, pre_img)\n",
    "    img_800_psnr_sum = img_800_psnr_sum + img_psnr\n",
    "print(img_800_psnr_sum/img_num)\n",
    "img_800_psnr = img_800_psnr_sum/img_num"
   ]
  },
  {
   "cell_type": "markdown",
   "id": "db617b65",
   "metadata": {},
   "source": [
    "## 3.计算MSE"
   ]
  },
  {
   "cell_type": "markdown",
   "id": "9dc80a51",
   "metadata": {},
   "source": [
    "1.对50个传感器重建出来的图片与原图像计算MSE"
   ]
  },
  {
   "cell_type": "code",
   "execution_count": 14,
   "id": "c811f47f",
   "metadata": {
    "scrolled": true
   },
   "outputs": [
    {
     "name": "stdout",
     "output_type": "stream",
     "text": [
      "100\n",
      "458.4137162962963\n"
     ]
    }
   ],
   "source": [
    "rec_50_sensor_dir = os.listdir(rec_50_sensor_path)\n",
    "img_50_mse_sum = 0\n",
    "img_num = len(rec_50_sensor_dir)\n",
    "print(img_num)\n",
    "for file in rec_50_sensor_dir:\n",
    "    rec_img = np.array(Image.open(os.path.join(rec_50_sensor_path,file)))\n",
    "    pre_img = np.array(Image.open(os.path.join(pre_image_path,file)))\n",
    "    img_mse = mean_squared_error(rec_img, pre_img)\n",
    "    img_50_mse_sum = img_50_mse_sum + img_mse\n",
    "print(img_50_mse_sum/img_num)\n",
    "img_50_mse = img_50_mse_sum/img_num"
   ]
  },
  {
   "cell_type": "markdown",
   "id": "6d5d0611",
   "metadata": {},
   "source": [
    "2.对100个传感器重建出来的图片与原图像计算MSE"
   ]
  },
  {
   "cell_type": "code",
   "execution_count": 15,
   "id": "b99e5571",
   "metadata": {
    "scrolled": true
   },
   "outputs": [
    {
     "name": "stdout",
     "output_type": "stream",
     "text": [
      "100\n",
      "320.19832248148145\n"
     ]
    }
   ],
   "source": [
    "rec_100_sensor_dir = os.listdir(rec_100_sensor_path)\n",
    "img_100_mse_sum = 0\n",
    "img_num = len(rec_100_sensor_dir)\n",
    "print(img_num)\n",
    "for file in rec_100_sensor_dir:\n",
    "    rec_img = np.array(Image.open(os.path.join(rec_100_sensor_path,file)))\n",
    "    pre_img = np.array(Image.open(os.path.join(pre_image_path,file)))\n",
    "    img_mse = mean_squared_error(rec_img, pre_img)\n",
    "    img_100_mse_sum = img_100_mse_sum + img_mse\n",
    "print(img_100_mse_sum/img_num)\n",
    "img_100_mse = img_100_mse_sum/img_num"
   ]
  },
  {
   "cell_type": "markdown",
   "id": "5f5ad221",
   "metadata": {},
   "source": [
    "3.对200个传感器重建出来的图片与原图像计算MSE"
   ]
  },
  {
   "cell_type": "code",
   "execution_count": 16,
   "id": "8aebc008",
   "metadata": {
    "scrolled": true
   },
   "outputs": [
    {
     "name": "stdout",
     "output_type": "stream",
     "text": [
      "100\n",
      "264.2899334814814\n"
     ]
    }
   ],
   "source": [
    "rec_200_sensor_dir = os.listdir(rec_200_sensor_path)\n",
    "img_200_mse_sum = 0\n",
    "img_num = len(rec_200_sensor_dir)\n",
    "print(img_num)\n",
    "for file in rec_200_sensor_dir:\n",
    "    rec_img = np.array(Image.open(os.path.join(rec_200_sensor_path,file)))\n",
    "    pre_img = np.array(Image.open(os.path.join(pre_image_path,file)))\n",
    "    img_mse = mean_squared_error(rec_img, pre_img)\n",
    "    img_200_mse_sum = img_200_mse_sum + img_mse\n",
    "print(img_200_mse_sum/img_num)\n",
    "img_200_mse = img_200_mse_sum/img_num"
   ]
  },
  {
   "cell_type": "markdown",
   "id": "7617f0f2",
   "metadata": {},
   "source": [
    "4.对400个传感器重建出来的图片与原图像计算MSE"
   ]
  },
  {
   "cell_type": "code",
   "execution_count": 17,
   "id": "bc89cc9d",
   "metadata": {},
   "outputs": [
    {
     "name": "stdout",
     "output_type": "stream",
     "text": [
      "100\n",
      "236.50996751851858\n"
     ]
    }
   ],
   "source": [
    "rec_400_sensor_dir = os.listdir(rec_400_sensor_path)\n",
    "img_400_mse_sum = 0\n",
    "img_num = len(rec_400_sensor_dir)\n",
    "print(img_num)\n",
    "for file in rec_400_sensor_dir:\n",
    "    rec_img = np.array(Image.open(os.path.join(rec_400_sensor_path,file)))\n",
    "    pre_img = np.array(Image.open(os.path.join(pre_image_path,file)))\n",
    "    img_mse = mean_squared_error(rec_img, pre_img)\n",
    "    img_400_mse_sum = img_400_mse_sum + img_mse\n",
    "print(img_400_mse_sum/img_num)\n",
    "img_400_mse = img_400_mse_sum/img_num"
   ]
  },
  {
   "cell_type": "markdown",
   "id": "37da99da",
   "metadata": {},
   "source": [
    "5.对800个传感器重建出来的图片与原图像计算MSE"
   ]
  },
  {
   "cell_type": "code",
   "execution_count": 18,
   "id": "8de7caae",
   "metadata": {},
   "outputs": [
    {
     "name": "stdout",
     "output_type": "stream",
     "text": [
      "100\n",
      "226.69942562962967\n"
     ]
    }
   ],
   "source": [
    "rec_800_sensor_dir = os.listdir(rec_800_sensor_path)\n",
    "img_800_mse_sum = 0\n",
    "img_num = len(rec_800_sensor_dir)\n",
    "print(img_num)\n",
    "for file in rec_800_sensor_dir:\n",
    "    rec_img = np.array(Image.open(os.path.join(rec_800_sensor_path,file)))\n",
    "    pre_img = np.array(Image.open(os.path.join(pre_image_path,file)))\n",
    "    img_mse = mean_squared_error(rec_img, pre_img)\n",
    "    img_800_mse_sum = img_800_mse_sum + img_mse\n",
    "print(img_800_mse_sum/img_num)\n",
    "img_800_mse = img_800_mse_sum/img_num"
   ]
  },
  {
   "cell_type": "markdown",
   "id": "84a01629",
   "metadata": {},
   "source": [
    "## 4.画折线图"
   ]
  },
  {
   "cell_type": "code",
   "execution_count": 19,
   "id": "a2734250",
   "metadata": {},
   "outputs": [],
   "source": [
    "# 导入库\n",
    "import matplotlib.pyplot as plt\n",
    "from matplotlib.pyplot import MultipleLocator"
   ]
  },
  {
   "cell_type": "code",
   "execution_count": 20,
   "id": "2992f4b0",
   "metadata": {},
   "outputs": [],
   "source": [
    "# 数据\n",
    "sensor_num = [50, 100, 200, 400, 800]\n",
    "img_mse = [img_50_mse, img_100_mse, img_200_mse, img_400_mse, img_800_mse]\n",
    "img_ssim = [img_50_ssim, img_100_ssim, img_200_ssim, img_400_ssim, img_800_ssim]\n",
    "img_psnr = [img_50_psnr, img_100_psnr, img_200_psnr, img_400_psnr, img_800_psnr]"
   ]
  },
  {
   "cell_type": "code",
   "execution_count": 29,
   "id": "55cc8fa2",
   "metadata": {},
   "outputs": [
    {
     "data": {
      "image/png": "[encoded data removed]",
      "text/plain": [
       "<Figure size 880x240 with 3 Axes>"
      ]
     },
     "metadata": {},
     "output_type": "display_data"
    }
   ],
   "source": [
    "# 画图\n",
    "figure=plt.figure(figsize=(11,3),dpi=80)\n",
    " \n",
    "# 子图1\n",
    "ax1=plt.subplot(131)\n",
    "mse_line = plt.plot(sensor_num, img_mse,linestyle=':',marker='o')\n",
    "plt.xlabel(\"num of the sensor point\")\n",
    "plt.ylabel(\"MSE\")\n",
    " \n",
    "# 子图2\n",
    "ax2=plt.subplot(132)\n",
    "psnr_line = plt.plot(sensor_num, img_psnr,linestyle=':',marker='o')\n",
    "ax2.set_xlabel(\"num of the sensor point\") \n",
    "plt.ylabel(\"PSNR\")\n",
    "\n",
    "# 子图3\n",
    "ax3=plt.subplot(133)\n",
    "ssim_line = plt.plot(sensor_num, img_ssim,linestyle=':',marker='o')\n",
    "plt.xlabel(\"num of the sensor point\")\n",
    "plt.ylabel(\"SSIM\")\n",
    "\n",
    "plt.tight_layout()\n",
    "plt.savefig(\"../Image/t9.png\")\n",
    "plt.show()"
   ]
  }
 ],
 "metadata": {
  "kernelspec": {
   "display_name": "Python [conda env:pytorch] *",
   "language": "python",
   "name": "conda-env-pytorch-py"
  },
  "language_info": {
   "codemirror_mode": {
    "name": "ipython",
    "version": 3
   },
   "file_extension": ".py",
   "mimetype": "text/x-python",
   "name": "python",
   "nbconvert_exporter": "python",
   "pygments_lexer": "ipython3",
   "version": "3.10.9"
  }
 },
 "nbformat": 4,
 "nbformat_minor": 5
}
