{
 "cells": [
  {
   "cell_type": "markdown",
   "id": "81fa3951",
   "metadata": {},
   "source": [
    "这个代码的目的是证明降采样后的重建图片与不降采样的重建图片很相似"
   ]
  },
  {
   "cell_type": "markdown",
   "id": "b193fc7e",
   "metadata": {},
   "source": [
    "1.初始化库"
   ]
  },
  {
   "cell_type": "code",
   "execution_count": 1,
   "id": "e755ded7",
   "metadata": {},
   "outputs": [],
   "source": [
    "from skimage.metrics import structural_similarity as ssim\n",
    "from PIL import Image\n",
    "import numpy as np\n",
    "\n",
    "import os, sys\n",
    "import numpy as np\n",
    "import matplotlib.pyplot as plt\n",
    "\n",
    "from skimage import data, img_as_float\n",
    "from skimage.metrics import structural_similarity as ssim\n",
    "from skimage.metrics import mean_squared_error\n",
    "from skimage.metrics import peak_signal_noise_ratio as psnr"
   ]
  },
  {
   "cell_type": "markdown",
   "id": "e4299413",
   "metadata": {},
   "source": [
    "2.目标文件夹"
   ]
  },
  {
   "cell_type": "code",
   "execution_count": 2,
   "id": "96f535c3",
   "metadata": {},
   "outputs": [],
   "source": [
    "pre_image_path = 'D:/Document/DataSet/Skin Cancer MNIST/Skin Cancer MNIST Pre photos/HAM10000_images_part_1'\n",
    "rec_50_sensor_path = 'D:/Document/DataSet/Skin Cancer MNIST/Skin Cancer MNIST 100 Rec Photos/50_sensor_points'\n",
    "rec_image_path = 'D:/Document/DataSet/Skin Cancer MNIST/Skin Cancer MNIST Rec photos/HAM10000_images_part_1'"
   ]
  },
  {
   "cell_type": "markdown",
   "id": "68130326",
   "metadata": {},
   "source": [
    "3.开始计算"
   ]
  },
  {
   "cell_type": "markdown",
   "id": "b7a31d21",
   "metadata": {},
   "source": [
    "3.1 SSIM"
   ]
  },
  {
   "cell_type": "code",
   "execution_count": 5,
   "id": "a77b1076",
   "metadata": {},
   "outputs": [
    {
     "name": "stdout",
     "output_type": "stream",
     "text": [
      "100\n",
      "0.4686246351082388\n"
     ]
    }
   ],
   "source": [
    "rec_50_sensor_dir = os.listdir(rec_50_sensor_path)\n",
    "img_50_ssim_sum = 0\n",
    "img_num = len(rec_50_sensor_dir)\n",
    "print(img_num)\n",
    "for file in rec_50_sensor_dir:\n",
    "    rec_img = np.array(Image.open(os.path.join(rec_50_sensor_path,file)))\n",
    "    pre_img = np.array(Image.open(os.path.join(pre_image_path,file)))\n",
    "    img_ssim = ssim(rec_img, pre_img, multichannel=True)\n",
    "    img_50_ssim_sum = img_50_ssim_sum + img_ssim\n",
    "print(img_50_ssim_sum/img_num)"
   ]
  },
  {
   "cell_type": "code",
   "execution_count": 6,
   "id": "d90dca2f",
   "metadata": {},
   "outputs": [
    {
     "name": "stdout",
     "output_type": "stream",
     "text": [
      "100\n",
      "0.5097136548222722\n"
     ]
    }
   ],
   "source": [
    "rec_image_dir = os.listdir(rec_image_path)\n",
    "img_ssim_sum = 0\n",
    "img_num = len(rec_50_sensor_dir)\n",
    "print(img_num)\n",
    "for file in rec_50_sensor_dir:\n",
    "    rec_img = np.array(Image.open(os.path.join(rec_image_path,file)))\n",
    "    pre_img = np.array(Image.open(os.path.join(pre_image_path,file)))\n",
    "    img_ssim = ssim(rec_img, pre_img, multichannel=True)\n",
    "    img_ssim_sum = img_ssim_sum + img_ssim\n",
    "print(img_ssim_sum/img_num)"
   ]
  },
  {
   "cell_type": "code",
   "execution_count": null,
   "id": "3174fcaf",
   "metadata": {},
   "outputs": [],
   "source": []
  }
 ],
 "metadata": {
  "kernelspec": {
   "display_name": "Python [conda env:pytorch] *",
   "language": "python",
   "name": "conda-env-pytorch-py"
  },
  "language_info": {
   "codemirror_mode": {
    "name": "ipython",
    "version": 3
   },
   "file_extension": ".py",
   "mimetype": "text/x-python",
   "name": "python",
   "nbconvert_exporter": "python",
   "pygments_lexer": "ipython3",
   "version": "3.10.9"
  }
 },
 "nbformat": 4,
 "nbformat_minor": 5
}
