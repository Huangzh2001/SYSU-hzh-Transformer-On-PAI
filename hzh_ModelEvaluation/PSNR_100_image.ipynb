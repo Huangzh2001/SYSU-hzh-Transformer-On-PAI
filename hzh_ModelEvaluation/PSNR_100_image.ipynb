{
 "cells": [
  {
   "cell_type": "markdown",
   "id": "28137a2e",
   "metadata": {},
   "source": [
    "1.初始化库"
   ]
  },
  {
   "cell_type": "code",
   "execution_count": 7,
   "id": "99b4939b",
   "metadata": {},
   "outputs": [],
   "source": [
    "from skimage.metrics import structural_similarity as ssim\n",
    "from PIL import Image\n",
    "import numpy as np\n",
    "from skimage.metrics import peak_signal_noise_ratio as psnr\n",
    "import os, sys"
   ]
  },
  {
   "cell_type": "markdown",
   "id": "e0626251",
   "metadata": {},
   "source": [
    "2.定义图片读取路径"
   ]
  },
  {
   "cell_type": "code",
   "execution_count": 8,
   "id": "637d180d",
   "metadata": {},
   "outputs": [],
   "source": [
    "pre_image_path = 'D:/Document/DataSet/Skin Cancer MNIST/Skin Cancer MNIST Pre photos/HAM10000_images_part_1'\n",
    "rec_50_sensor_path = 'D:/Document/DataSet/Skin Cancer MNIST/Skin Cancer MNIST 100 Rec Photos/50_sensor_points'\n",
    "rec_100_sensor_path = 'D:/Document/DataSet/Skin Cancer MNIST/Skin Cancer MNIST 100 Rec Photos/100_sensor_points'\n",
    "rec_200_sensor_path = 'D:/Document/DataSet/Skin Cancer MNIST/Skin Cancer MNIST 100 Rec Photos/200_sensor_points'\n",
    "rec_400_sensor_path = 'D:/Document/DataSet/Skin Cancer MNIST/Skin Cancer MNIST 100 Rec Photos/400_sensor_points'"
   ]
  },
  {
   "cell_type": "code",
   "execution_count": 9,
   "id": "75a0ac63",
   "metadata": {},
   "outputs": [],
   "source": [
    "pre_image_dir = os.listdir(pre_image_path)"
   ]
  },
  {
   "cell_type": "markdown",
   "id": "3c3934c1",
   "metadata": {},
   "source": [
    "3.对50个传感器重建出来的图片与原图像计算psnr"
   ]
  },
  {
   "cell_type": "code",
   "execution_count": 10,
   "id": "a6d850bb",
   "metadata": {
    "scrolled": true
   },
   "outputs": [
    {
     "name": "stdout",
     "output_type": "stream",
     "text": [
      "100\n",
      "22.253450064737404\n"
     ]
    }
   ],
   "source": [
    "rec_50_sensor_dir = os.listdir(rec_50_sensor_path)\n",
    "img_50_psnr_sum = 0\n",
    "img_num = len(rec_50_sensor_dir)\n",
    "print(img_num)\n",
    "for file in rec_50_sensor_dir:\n",
    "    rec_img = np.array(Image.open(os.path.join(rec_50_sensor_path,file)))\n",
    "    pre_img = np.array(Image.open(os.path.join(pre_image_path,file)))\n",
    "    img_psnr = psnr(rec_img, pre_img)\n",
    "    img_50_psnr_sum = img_50_psnr_sum + img_psnr\n",
    "print(img_50_psnr_sum/img_num)"
   ]
  },
  {
   "cell_type": "markdown",
   "id": "0e158231",
   "metadata": {},
   "source": [
    "4.对100个传感器重建出来的图片与原图像计算psnr"
   ]
  },
  {
   "cell_type": "code",
   "execution_count": 11,
   "id": "05b357f6",
   "metadata": {
    "scrolled": true
   },
   "outputs": [
    {
     "name": "stdout",
     "output_type": "stream",
     "text": [
      "100\n",
      "24.28232628379374\n"
     ]
    }
   ],
   "source": [
    "rec_100_sensor_dir = os.listdir(rec_100_sensor_path)\n",
    "img_100_psnr_sum = 0\n",
    "img_num = len(rec_100_sensor_dir)\n",
    "print(img_num)\n",
    "for file in rec_100_sensor_dir:\n",
    "    rec_img = np.array(Image.open(os.path.join(rec_100_sensor_path,file)))\n",
    "    pre_img = np.array(Image.open(os.path.join(pre_image_path,file)))\n",
    "    img_psnr = psnr(rec_img, pre_img)\n",
    "    img_100_psnr_sum = img_100_psnr_sum + img_psnr\n",
    "print(img_100_psnr_sum/img_num)"
   ]
  },
  {
   "cell_type": "markdown",
   "id": "b5e83ad9",
   "metadata": {},
   "source": [
    "5.对400个传感器重建出来的图片与原图像计算psnr"
   ]
  },
  {
   "cell_type": "code",
   "execution_count": 12,
   "id": "69169be8",
   "metadata": {},
   "outputs": [
    {
     "name": "stdout",
     "output_type": "stream",
     "text": [
      "100\n",
      "25.967972785730808\n"
     ]
    }
   ],
   "source": [
    "rec_400_sensor_dir = os.listdir(rec_400_sensor_path)\n",
    "img_400_psnr_sum = 0\n",
    "img_num = len(rec_400_sensor_dir)\n",
    "print(img_num)\n",
    "for file in rec_400_sensor_dir:\n",
    "    rec_img = np.array(Image.open(os.path.join(rec_400_sensor_path,file)))\n",
    "    pre_img = np.array(Image.open(os.path.join(pre_image_path,file)))\n",
    "    img_psnr = psnr(rec_img, pre_img)\n",
    "    img_400_psnr_sum = img_400_psnr_sum + img_psnr\n",
    "print(img_400_psnr_sum/img_num)"
   ]
  },
  {
   "cell_type": "code",
   "execution_count": null,
   "id": "a078575b",
   "metadata": {},
   "outputs": [],
   "source": []
  }
 ],
 "metadata": {
  "kernelspec": {
   "display_name": "Python [conda env:pytorch] *",
   "language": "python",
   "name": "conda-env-pytorch-py"
  },
  "language_info": {
   "codemirror_mode": {
    "name": "ipython",
    "version": 3
   },
   "file_extension": ".py",
   "mimetype": "text/x-python",
   "name": "python",
   "nbconvert_exporter": "python",
   "pygments_lexer": "ipython3",
   "version": "3.10.9"
  }
 },
 "nbformat": 4,
 "nbformat_minor": 5
}
